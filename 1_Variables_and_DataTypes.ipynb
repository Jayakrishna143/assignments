{
  "cells": [
    {
      "cell_type": "markdown",
      "metadata": {
        "id": "view-in-github",
        "colab_type": "text"
      },
      "source": [
        "<a href=\"https://colab.research.google.com/github/Jayakrishna143/assignments/blob/main/1_Variables_and_DataTypes.ipynb\" target=\"_parent\"><img src=\"https://colab.research.google.com/assets/colab-badge.svg\" alt=\"Open In Colab\"/></a>"
      ]
    },
    {
      "cell_type": "markdown",
      "metadata": {
        "id": "8tFmviafJtPT"
      },
      "source": [
        "# Assignment Instructions\n",
        "\n",
        "`Hello Innominion,`\n",
        "\n",
        "- **Try to attempt all the questions in every possible way.**\n",
        "- **Some other topics are required to solve some questions. don't panic.**\n",
        "- **Those questions can be answered after the topics are taught.**\n",
        "\n",
        "\n",
        "- `Join Mentoring Session for the Support/Doubts Resolving with Our Technical Mentors (2.00 PM - 6.00 PM  Mon-Sat)`\n",
        "\n",
        "Happy Learning !!!"
      ]
    },
    {
      "cell_type": "markdown",
      "metadata": {
        "id": "QpGyzTSjJtPY"
      },
      "source": [
        "## Basics of Python"
      ]
    },
    {
      "cell_type": "markdown",
      "metadata": {
        "id": "Rd-LLf99JtPZ"
      },
      "source": [
        "> `Question:` Print your name"
      ]
    },
    {
      "cell_type": "code",
      "execution_count": null,
      "metadata": {
        "colab": {
          "base_uri": "https://localhost:8080/"
        },
        "id": "a8Qk8087JtPa",
        "outputId": "dcd50080-c3fa-46f5-ed94-056a72c48c35"
      },
      "outputs": [
        {
          "output_type": "stream",
          "name": "stdout",
          "text": [
            "My name is Jaya krishna Reddy\n"
          ]
        }
      ],
      "source": [
        "# CODE HERE\n",
        "Name = 'Jaya krishna Reddy'\n",
        "print(f'My name is {Name}')"
      ]
    },
    {
      "cell_type": "markdown",
      "metadata": {
        "id": "_iOtEAwiJtPc"
      },
      "source": [
        "> `Question:` What is a variable? Write a Few words about Variables. Create a Variable with an Example."
      ]
    },
    {
      "cell_type": "code",
      "execution_count": null,
      "metadata": {
        "id": "_ylFoetLJtPd"
      },
      "outputs": [],
      "source": [
        "# WRITE HERE"
      ]
    },
    {
      "cell_type": "markdown",
      "source": [
        "variable is like a name that acts as a reference and pointer to the data\n",
        "\n",
        "*   variable allows to store,retrive and manipulate the data stored in it\n",
        "*   variables in python are dinamic because there is no need to specify the type of data present in it\n",
        "\n",
        "*   variables should no contain spaces\n",
        "*   variables are not started with any number\n",
        "\n",
        "\n",
        "\n"
      ],
      "metadata": {
        "id": "uKON4HfSKILp"
      }
    },
    {
      "cell_type": "code",
      "execution_count": null,
      "metadata": {
        "id": "A4pZ2j78JtPe"
      },
      "outputs": [],
      "source": [
        "Name = 'Jaya krishna '\n",
        "#name here is a variable"
      ]
    },
    {
      "cell_type": "markdown",
      "metadata": {
        "id": "r1IlQF4cJtPf"
      },
      "source": [
        ">`Question:` Assume that we execute the following assignment statements:\n",
        "width = 17\n",
        "height = 12.0\n",
        "delimiter = '.'\n",
        "For each of the following expressions, write the value of the expression and the type (of the value of\n",
        "the expression).\n",
        "1. width/2\n",
        "2. width/2.0\n",
        "3. height/3\n",
        "4. 1 + 2 * 5\n",
        "5. delimiter * 5"
      ]
    },
    {
      "cell_type": "code",
      "execution_count": null,
      "metadata": {
        "colab": {
          "base_uri": "https://localhost:8080/"
        },
        "id": "FA1i0XIWJtPg",
        "outputId": "c1d84d10-7f4a-42ef-9e97-2abce408db91"
      },
      "outputs": [
        {
          "output_type": "stream",
          "name": "stdout",
          "text": [
            "8.5 and its type is <class 'float'>\n",
            "8.5 and its type is <class 'float'>\n",
            "4.0 and its type is <class 'float'>\n",
            "11 and its type is <class 'int'>\n",
            "..... and its type is <class 'str'>\n"
          ]
        }
      ],
      "source": [
        "# CODE HERE\n",
        "width = 17\n",
        "height = 12.0\n",
        "delimiter = '.'\n",
        "\n",
        "print(f'{width/2} and its type is {type(width/2)}')\n",
        "print(f'{width/2.0} and its type is {type(width/2.0)}')\n",
        "print(f'{height/3} and its type is {type(height/3)}')\n",
        "print(f'{1+2*5} and its type is {type(1+2*5)}')\n",
        "print(f'{delimiter*5} and its type is {type(delimiter*5)}')"
      ]
    },
    {
      "cell_type": "markdown",
      "metadata": {
        "id": "YHLPZA6fJtPh"
      },
      "source": [
        "> `Question:` Add two number by taking variable names as first and seccond"
      ]
    },
    {
      "cell_type": "code",
      "execution_count": null,
      "metadata": {
        "colab": {
          "base_uri": "https://localhost:8080/"
        },
        "id": "91oL1qrjJtPh",
        "outputId": "38d3ac81-1725-4f67-cd56-ee19f6c576ed"
      },
      "outputs": [
        {
          "output_type": "stream",
          "name": "stdout",
          "text": [
            "First number is : 100\n",
            "Second number is : 200\n",
            "Addition of two numbers is : 300\n"
          ]
        }
      ],
      "source": [
        "#CODE HERE\n",
        "first = 100\n",
        "second = 200\n",
        "print(f'First number is : {first}')\n",
        "print(f'Second number is : {second}')\n",
        "print(f'Addition of two numbers is : {first+second}')"
      ]
    },
    {
      "cell_type": "code",
      "execution_count": null,
      "metadata": {
        "id": "oXfHOnY0JtPi",
        "outputId": "31a3b776-3b71-40eb-882d-aa604071778b"
      },
      "outputs": [
        {
          "name": "stdout",
          "output_type": "stream",
          "text": [
            "first number is : 100\n",
            "second number is : 200\n",
            "Addition of two numbers are : 300\n"
          ]
        }
      ],
      "source": []
    },
    {
      "cell_type": "markdown",
      "metadata": {
        "id": "o8mhf3XhJtPi"
      },
      "source": [
        "> `Question:` Add your first name and second name"
      ]
    },
    {
      "cell_type": "code",
      "execution_count": null,
      "metadata": {
        "id": "wTZ2aZ79JtPj"
      },
      "outputs": [],
      "source": [
        "# CODE HERE"
      ]
    },
    {
      "cell_type": "code",
      "execution_count": null,
      "metadata": {
        "colab": {
          "base_uri": "https://localhost:8080/"
        },
        "id": "o-OZIKTWJtPj",
        "outputId": "a6fbdba2-acdf-4178-e986-6cf648d4ff70"
      },
      "outputs": [
        {
          "output_type": "stream",
          "name": "stdout",
          "text": [
            "My first name is : Jaya Krishna\n",
            "My second name is : Reddy\n",
            "My full name is : Jaya Krishna Reddy\n"
          ]
        }
      ],
      "source": [
        "First_name = 'Jaya Krishna'\n",
        "seocnd_name = 'Reddy'\n",
        "print(f'My first name is : {First_name}')\n",
        "print(f'My second name is : {seocnd_name}')\n",
        "print(f'My full name is : {First_name} {seocnd_name}')\n"
      ]
    },
    {
      "cell_type": "code",
      "execution_count": null,
      "metadata": {
        "id": "Hc-eqCrEJtPk"
      },
      "outputs": [],
      "source": []
    },
    {
      "cell_type": "markdown",
      "metadata": {
        "id": "-987vYu3JtPk"
      },
      "source": [
        "> `Question:` print the datatypes of the following\n",
        "- 10,'10',True,10.5"
      ]
    },
    {
      "cell_type": "code",
      "execution_count": null,
      "metadata": {
        "id": "eFL_x1w5JtPk"
      },
      "outputs": [],
      "source": [
        "# CODE HERE"
      ]
    },
    {
      "cell_type": "code",
      "execution_count": null,
      "metadata": {
        "colab": {
          "base_uri": "https://localhost:8080/"
        },
        "id": "-ifeuGdVJtPk",
        "outputId": "80cadc4e-374a-4802-b00b-cd268473d6fc"
      },
      "outputs": [
        {
          "output_type": "stream",
          "name": "stdout",
          "text": [
            "10 <class 'int'>\n",
            " \"10\" <class 'str'>\n",
            "True <class 'bool'>\n",
            "10.5 <class 'float'>\n"
          ]
        }
      ],
      "source": [
        "a= 10\n",
        "b ='10'\n",
        "c =True\n",
        "d = 10.5\n",
        "print(f'10 {type(a)}')\n",
        "print(f' \"10\" {type(b)}')\n",
        "print(f'True {type(c)}''')\n",
        "print(f'10.5 {type(d)}''')"
      ]
    },
    {
      "cell_type": "markdown",
      "metadata": {
        "id": "SAHC8vJnJtPl"
      },
      "source": [
        " `Question:`\n",
        "> - num_int = 123\n",
        "> - num_str = \"456\"\n",
        "> - Add num_int and num_str\n",
        "- `hint: first need to convert num_str into integer`"
      ]
    },
    {
      "cell_type": "code",
      "execution_count": null,
      "metadata": {
        "id": "uzRac9wkJtPl"
      },
      "outputs": [],
      "source": [
        "# CODE HERE"
      ]
    },
    {
      "cell_type": "code",
      "execution_count": null,
      "metadata": {
        "colab": {
          "base_uri": "https://localhost:8080/"
        },
        "id": "Af8SH_kjJtPl",
        "outputId": "c26181ea-467b-4a8c-9248-a4bf698a223c"
      },
      "outputs": [
        {
          "output_type": "stream",
          "name": "stdout",
          "text": [
            "Addition of 123 and  456 is : 579\n"
          ]
        }
      ],
      "source": [
        "num_int = 123\n",
        "num_str = \"456\"\n",
        "num_str = int(num_str)\n",
        "print(f'Addition of {num_int} and  {num_str} is : {num_int+num_str}')"
      ]
    },
    {
      "cell_type": "code",
      "execution_count": null,
      "metadata": {
        "id": "8DSlzoWBJtPm"
      },
      "outputs": [],
      "source": []
    },
    {
      "cell_type": "markdown",
      "metadata": {
        "id": "rDRHc-rAJtPm"
      },
      "source": [
        "### Advanced Questions"
      ]
    },
    {
      "cell_type": "markdown",
      "metadata": {
        "id": "pT0keIXEJtPm"
      },
      "source": [
        "> `Question:` The volume of a sphere with radius r is  4/3πr3  . What is the volume of a sphere with radius 5?"
      ]
    },
    {
      "cell_type": "code",
      "execution_count": null,
      "metadata": {
        "colab": {
          "base_uri": "https://localhost:8080/"
        },
        "id": "Lcpx9T11JtPn",
        "outputId": "c98e5fa2-610a-439e-a538-8d224017f91d"
      },
      "outputs": [
        {
          "output_type": "stream",
          "name": "stdout",
          "text": [
            "Volume of a sphere with radius 5 is 523.3333333333334\n"
          ]
        }
      ],
      "source": [
        "# CODE HERE\n",
        "\n",
        "radius = 5\n",
        "volume = 4/3*3.14*radius**3\n",
        "print(f'Volume of a sphere with radius {radius} is {volume}')"
      ]
    },
    {
      "cell_type": "markdown",
      "metadata": {
        "id": "E2c8Yf5yJtPo"
      },
      "source": [
        "> `Question:` Suppose the cover price of a book is Rs.24.95, but bookstores get a 40% discount. Shipping costs Rs.3 for the first copy and 75 paise for each additional copy. What is the total wholesale cost for 60 copies?"
      ]
    },
    {
      "cell_type": "code",
      "execution_count": null,
      "metadata": {
        "id": "U-EG8VgiJtPo"
      },
      "outputs": [],
      "source": [
        "# CODE HERE"
      ]
    },
    {
      "cell_type": "code",
      "execution_count": null,
      "metadata": {
        "colab": {
          "base_uri": "https://localhost:8080/"
        },
        "id": "n5tl_45SJtPo",
        "outputId": "a186b471-6c7b-4236-8fb0-564519656a8f"
      },
      "outputs": [
        {
          "output_type": "stream",
          "name": "stdout",
          "text": [
            "Total wholesale cost for 60 copies is 945.4499999999999\n"
          ]
        }
      ],
      "source": [
        "cover_price = 24.95\n",
        "Discounted_cost = 24.95 -(24.95*0.4)\n",
        "shipping_cost = 3*1 +0.75*(60-1)\n",
        "actual_cost = Discounted_cost*60 + shipping_cost\n",
        "print(f'Total wholesale cost for 60 copies is {actual_cost}')"
      ]
    },
    {
      "cell_type": "code",
      "execution_count": null,
      "metadata": {
        "id": "56_cHkJZJtPp"
      },
      "outputs": [],
      "source": []
    },
    {
      "cell_type": "markdown",
      "metadata": {
        "id": "S0CkaK0xJtPp"
      },
      "source": [
        "# [Innomatics Research Labs](https:/innomatics.in/)\n",
        "[www.innomatics.in](https:/innomatics.in/)"
      ]
    }
  ],
  "metadata": {
    "kernelspec": {
      "display_name": "Python 3",
      "language": "python",
      "name": "python3"
    },
    "language_info": {
      "codemirror_mode": {
        "name": "ipython",
        "version": 3
      },
      "file_extension": ".py",
      "mimetype": "text/x-python",
      "name": "python",
      "nbconvert_exporter": "python",
      "pygments_lexer": "ipython3",
      "version": "3.8.5"
    },
    "colab": {
      "provenance": [],
      "include_colab_link": true
    }
  },
  "nbformat": 4,
  "nbformat_minor": 0
}