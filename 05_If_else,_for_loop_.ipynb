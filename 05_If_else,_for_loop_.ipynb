{
  "cells": [
    {
      "cell_type": "markdown",
      "metadata": {
        "id": "view-in-github",
        "colab_type": "text"
      },
      "source": [
        "<a href=\"https://colab.research.google.com/github/Jayakrishna143/assignments/blob/main/05_If_else%2C_for_loop_.ipynb\" target=\"_parent\"><img src=\"https://colab.research.google.com/assets/colab-badge.svg\" alt=\"Open In Colab\"/></a>"
      ]
    },
    {
      "cell_type": "markdown",
      "metadata": {
        "id": "hoIbnW1pSUGx"
      },
      "source": [
        "# IF , ELSE.... FOR LOOP"
      ]
    },
    {
      "cell_type": "markdown",
      "metadata": {
        "id": "ikGY6v8bSUG1"
      },
      "source": [
        "> print this is hour in current minute is odd"
      ]
    },
    {
      "cell_type": "code",
      "execution_count": 3,
      "metadata": {
        "colab": {
          "base_uri": "https://localhost:8080/"
        },
        "id": "rEPpakIYSUG2",
        "outputId": "47ec4c16-2882-4fef-d2b6-8f84ed3c4870"
      },
      "outputs": [
        {
          "output_type": "stream",
          "name": "stdout",
          "text": [
            "Enter minute of hour: 56\n",
            "56 This is even minute of hour\n"
          ]
        }
      ],
      "source": [
        "#CODE HERE\n",
        "i = int(input('Enter minute of hour: '))\n",
        "if i % 2 == 0:\n",
        "    print(f'{i} This is even minute of hour')\n",
        "else:\n",
        "    print(f'{i} This is odd minute of hour')"
      ]
    },
    {
      "cell_type": "markdown",
      "metadata": {
        "id": "-3hOKGqjSUG4"
      },
      "source": [
        "> if today is satarday then print 'Party !!!' or if sunday print take rest other wise print work , work, work"
      ]
    },
    {
      "cell_type": "code",
      "execution_count": 5,
      "metadata": {
        "colab": {
          "base_uri": "https://localhost:8080/"
        },
        "id": "DmUCulAFSUG5",
        "outputId": "b005dde4-ecb9-4316-8824-365743b70444"
      },
      "outputs": [
        {
          "output_type": "stream",
          "name": "stdout",
          "text": [
            "Enter today day: sunday\n",
            "take rest\n"
          ]
        }
      ],
      "source": [
        "#CODE HERE\n",
        "day = input('Enter today day: ')\n",
        "if day.lower() == 'saturday':\n",
        "    print('Party !!!')\n",
        "elif day.lower() == 'sunday':\n",
        "    print('take rest')\n",
        "else:\n",
        "    print('work, work, work')"
      ]
    },
    {
      "cell_type": "markdown",
      "metadata": {
        "id": "nm6W6BHjSUG6"
      },
      "source": [
        "> Write a program which will find all such numbers which are divisible by 7 but are not a multiple of 5, between 2000 and 3200 (both included). The numbers obtained should be printed in a comma-separated sequence on a single line."
      ]
    },
    {
      "cell_type": "code",
      "execution_count": 6,
      "metadata": {
        "colab": {
          "base_uri": "https://localhost:8080/"
        },
        "id": "tYdQ2xweSUG7",
        "outputId": "0920ea30-0d37-48c8-8df5-35d73d473da2"
      },
      "outputs": [
        {
          "output_type": "stream",
          "name": "stdout",
          "text": [
            "2002,2009,2016,2023,2037,2044,2051,2058,2072,2079,2086,2093,2107,2114,2121,2128,2142,2149,2156,2163,2177,2184,2191,2198,2212,2219,2226,2233,2247,2254,2261,2268,2282,2289,2296,2303,2317,2324,2331,2338,2352,2359,2366,2373,2387,2394,2401,2408,2422,2429,2436,2443,2457,2464,2471,2478,2492,2499,2506,2513,2527,2534,2541,2548,2562,2569,2576,2583,2597,2604,2611,2618,2632,2639,2646,2653,2667,2674,2681,2688,2702,2709,2716,2723,2737,2744,2751,2758,2772,2779,2786,2793,2807,2814,2821,2828,2842,2849,2856,2863,2877,2884,2891,2898,2912,2919,2926,2933,2947,2954,2961,2968,2982,2989,2996,3003,3017,3024,3031,3038,3052,3059,3066,3073,3087,3094,3101,3108,3122,3129,3136,3143,3157,3164,3171,3178,3192,3199,"
          ]
        }
      ],
      "source": [
        "#CODE HERE\n",
        "for i in range(2000,3201):\n",
        "    if i % 7 == 0 and i % 5 != 0:\n",
        "        print(i, end=',')"
      ]
    },
    {
      "cell_type": "code",
      "execution_count": null,
      "metadata": {
        "id": "sHmbd1P2SUG7",
        "outputId": "80986eba-2d1a-4a30-b5ff-bac3b384c4cd"
      },
      "outputs": [
        {
          "name": "stdout",
          "output_type": "stream",
          "text": [
            "2002,2009,2016,2023,2037,2044,2051,2058,2072,2079,2086,2093,2107,2114,2121,2128,2142,2149,2156,2163,2177,2184,2191,2198,2212,2219,2226,2233,2247,2254,2261,2268,2282,2289,2296,2303,2317,2324,2331,2338,2352,2359,2366,2373,2387,2394,2401,2408,2422,2429,2436,2443,2457,2464,2471,2478,2492,2499,2506,2513,2527,2534,2541,2548,2562,2569,2576,2583,2597,2604,2611,2618,2632,2639,2646,2653,2667,2674,2681,2688,2702,2709,2716,2723,2737,2744,2751,2758,2772,2779,2786,2793,2807,2814,2821,2828,2842,2849,2856,2863,2877,2884,2891,2898,2912,2919,2926,2933,2947,2954,2961,2968,2982,2989,2996,3003,3017,3024,3031,3038,3052,3059,3066,3073,3087,3094,3101,3108,3122,3129,3136,3143,3157,3164,3171,3178,3192,3199\n"
          ]
        }
      ],
      "source": [
        "#CODE HERE"
      ]
    },
    {
      "cell_type": "markdown",
      "metadata": {
        "id": "89PXSKUKSUG8"
      },
      "source": [
        "> Write a program which can compute the factorial of a given numbers.\n",
        "The results should be printed in a comma-separated sequence on a single line.\n",
        "Suppose the following input is supplied to the program:\n",
        "8\n",
        "Then, the output should be:\n",
        "40320"
      ]
    },
    {
      "cell_type": "code",
      "execution_count": 9,
      "metadata": {
        "colab": {
          "base_uri": "https://localhost:8080/"
        },
        "id": "clHyPehgSUG9",
        "outputId": "2c03e5d4-71c6-43ba-bc8d-f94c1a5cdb9a"
      },
      "outputs": [
        {
          "output_type": "stream",
          "name": "stdout",
          "text": [
            "enter a value to compute the factorial: 9\n",
            "9! = 362880\n"
          ]
        }
      ],
      "source": [
        "#CODE HERE\n",
        "n = int(input('enter a value to compute the factorial: '))\n",
        "factorial =1\n",
        "for i in range(1,n+1):\n",
        "    factorial*=i\n",
        "print(f'{n}! = {factorial}')"
      ]
    },
    {
      "cell_type": "markdown",
      "metadata": {
        "id": "Tf93h5_DSUG-"
      },
      "source": [
        "> With a given integral number n, write a program to generate a dictionary that contains (i, i*i) such that is an integral number between 1 and n (both included). and then the program should print the dictionary.\n",
        "Suppose the following input is supplied to the program:\n",
        "8\n",
        "Then, the output should be:\n",
        "{1: 1, 2: 4, 3: 9, 4: 16, 5: 25, 6: 36, 7: 49, 8: 64}\n",
        "\n",
        "*Hint* : use dict()"
      ]
    },
    {
      "cell_type": "code",
      "execution_count": 11,
      "metadata": {
        "colab": {
          "base_uri": "https://localhost:8080/"
        },
        "id": "qR_hrpteSUG_",
        "outputId": "b56eaa58-ad8e-4017-c48a-da46c441f05f"
      },
      "outputs": [
        {
          "name": "stdout",
          "output_type": "stream",
          "text": [
            "enter a number: 8\n"
          ]
        },
        {
          "output_type": "execute_result",
          "data": {
            "text/plain": [
              "{1: 1, 2: 4, 3: 9, 4: 16, 5: 25, 6: 36, 7: 49, 8: 64}"
            ]
          },
          "metadata": {},
          "execution_count": 11
        }
      ],
      "source": [
        "#CODE HERE\n",
        "n = int(input('enter a number: '))\n",
        "d={i:i*i for i in range(1,n+1)}\n",
        "d"
      ]
    },
    {
      "cell_type": "markdown",
      "metadata": {
        "id": "72BYiyO_SUG_"
      },
      "source": [
        "> create user defined fuction for\n",
        "- addition \"add\"\n",
        "- subtraction \"sub\"\n",
        "- multiplication \"mul\"\n",
        "- division \"div\"\n",
        "- power \"pow\""
      ]
    },
    {
      "cell_type": "code",
      "source": [
        "# a = int(input('Please enter the value : '))\n",
        "# b = int(input('Please enter the value : '))\n",
        "# keyword_input = input('Enter the keyword {add, sub, mul, div, pow}: ')\n",
        "# def fun(a,b):\n",
        "#     keyword = {'add':a+b,'sub':a-b,'mul':a*b,'div':a/b,'pow':a**b}\n",
        "#     return (keyword[keyword_input])\n",
        "# fun(a,b)\n",
        "\n",
        "\n",
        "# method 2\n",
        "def func(a:int,b:int):\n",
        "    x =input('Enter the keyword {add, sub, mul, div, pow}: ')\n",
        "    if x.lower() == 'add':\n",
        "        print(f'addition of {a} and {b} is :{a+b}')\n",
        "    elif x.lower() == 'sub':\n",
        "        print(f'subtraction of {a} and {b} is :{a-b}')\n",
        "    elif x.lower() == 'mul':\n",
        "        print(f'multiplication of {a} and {b} is :{a*b}')\n",
        "    elif x.lower() == 'div':\n",
        "        print(f'division of {a} and {b} is :{a/b}')\n",
        "    elif x.lower() == 'pow':\n",
        "        print(f'power of {a} by {b} is :{a**b}')\n",
        "func(5,6)"
      ],
      "metadata": {
        "colab": {
          "base_uri": "https://localhost:8080/"
        },
        "id": "teuSSfxQZbEt",
        "outputId": "161147c8-6ecb-456e-effd-876cf8b55f0f"
      },
      "execution_count": 9,
      "outputs": [
        {
          "output_type": "stream",
          "name": "stdout",
          "text": [
            "Enter the keyword {add, sub, mul, div, pow}: pow\n",
            "power of 5 by 6 is :15625\n"
          ]
        }
      ]
    },
    {
      "cell_type": "code",
      "execution_count": null,
      "metadata": {
        "id": "33lPwm_BSUG_",
        "outputId": "f6f23a47-4015-4019-9c16-eb91ab19806b"
      },
      "outputs": [
        {
          "name": "stdout",
          "output_type": "stream",
          "text": [
            "Please enter the value : 8\n",
            "Please enter the value : 6\n",
            "Enter the keyword {add, sub, mul, div, pow}:pow\n",
            "==============================\n",
            "Power of 8 by 6 is : 262144\n"
          ]
        }
      ],
      "source": [
        "#CODE HERE\n"
      ]
    },
    {
      "cell_type": "markdown",
      "metadata": {
        "id": "arJch0MaSUHA"
      },
      "source": [
        "### Write a Python program that accepts a string and calculate the number of digits and letters.\n",
        "- Input\n",
        "\n",
        "    - Hello321Bye360\n",
        "- Output\n",
        "\n",
        "    - Digit - 6\n",
        "\n",
        "    - Letter - 8"
      ]
    },
    {
      "cell_type": "code",
      "execution_count": 10,
      "metadata": {
        "colab": {
          "base_uri": "https://localhost:8080/"
        },
        "id": "aY-5mE4ZSUHA",
        "outputId": "3d34565b-4cac-426d-cac9-149dfed04538"
      },
      "outputs": [
        {
          "output_type": "stream",
          "name": "stdout",
          "text": [
            "ENter the text: Hello321Bye360\n",
            "Digit - 6\n",
            "Letter - 8\n"
          ]
        }
      ],
      "source": [
        "# CODE HERE\n",
        "word = input(\"ENter the text: \")\n",
        "digit = 0\n",
        "letter = 0\n",
        "for i in word:\n",
        "    if i.isdigit():\n",
        "        digit +=1\n",
        "    elif i.isalpha():\n",
        "        letter +=1\n",
        "print(f'Digit - {digit}')\n",
        "print(f'Letter - {letter}')"
      ]
    },
    {
      "cell_type": "markdown",
      "metadata": {
        "id": "GmjKrJGXSUHB"
      },
      "source": [
        "### With a given tuple (1,2,3,4,5,6,7,8,9,10), write a program to print the first half values in one line and the last half values in one line."
      ]
    },
    {
      "cell_type": "code",
      "execution_count": 14,
      "metadata": {
        "colab": {
          "base_uri": "https://localhost:8080/"
        },
        "id": "qdggFb4oSUHB",
        "outputId": "ec569c76-333d-4112-bb16-b309e093125c"
      },
      "outputs": [
        {
          "output_type": "stream",
          "name": "stdout",
          "text": [
            "1 2 3 4 5 \n",
            "6 7 8 9 10 "
          ]
        }
      ],
      "source": [
        "# METHOD - 1\n",
        "t =(1,2,3,4,5,6,7,8,9,10)\n",
        "for i in t:\n",
        "    if i<=5:\n",
        "        print(i,end=' ')\n",
        "print()\n",
        "for i in t:\n",
        "    if i>5:\n",
        "        print(i,end=' ')"
      ]
    },
    {
      "cell_type": "code",
      "execution_count": 13,
      "metadata": {
        "colab": {
          "base_uri": "https://localhost:8080/"
        },
        "id": "-4lImWWdSUHC",
        "outputId": "f4b78755-bc2d-44c2-b84c-bf69ca924aee"
      },
      "outputs": [
        {
          "output_type": "stream",
          "name": "stdout",
          "text": [
            "(1, 2, 3, 4, 5) (6, 7, 8, 9, 10)\n"
          ]
        }
      ],
      "source": [
        "# METHOD - 2\n",
        "t =(1,2,3,4,5,6,7,8,9,10)\n",
        "t1 = t[:5]\n",
        "t2 = t[5:]\n",
        "print(t1,t2)\n"
      ]
    },
    {
      "cell_type": "code",
      "execution_count": 16,
      "metadata": {
        "colab": {
          "base_uri": "https://localhost:8080/"
        },
        "id": "vqd6bz7KSUHC",
        "outputId": "9c2f7f33-95b1-408f-aa31-fb7ac89d3753"
      },
      "outputs": [
        {
          "output_type": "stream",
          "name": "stdout",
          "text": [
            "[1, 2, 3, 4, 5]\n",
            "[6, 7, 8, 9, 10]\n"
          ]
        }
      ],
      "source": [
        "# METHOD - 3\n",
        "t =(1,2,3,4,5,6,7,8,9,10)\n",
        "l1 =[i for i in t if i<=5]\n",
        "l2 =[i for i in t if i>5]\n",
        "print(l1)\n",
        "\n",
        "print(l2)"
      ]
    },
    {
      "cell_type": "markdown",
      "metadata": {
        "id": "Oyh2ejF9SUHD"
      },
      "source": [
        "### Write a program to generate and print another tuple whose values are even numbers in the given tuple (1,2,3,4,5,6,7,8,9,10)"
      ]
    },
    {
      "cell_type": "code",
      "execution_count": 17,
      "metadata": {
        "colab": {
          "base_uri": "https://localhost:8080/"
        },
        "id": "lakEPmA3SUHD",
        "outputId": "7bcd1131-2039-406a-a4c8-7ba922fbbff5"
      },
      "outputs": [
        {
          "output_type": "execute_result",
          "data": {
            "text/plain": [
              "(2, 4, 6, 8, 10)"
            ]
          },
          "metadata": {},
          "execution_count": 17
        }
      ],
      "source": [
        "l =[i for i in (1,2,3,4,5,6,7,8,9,10) if i%2==0 ]\n",
        "t =tuple(l)\n",
        "t"
      ]
    },
    {
      "cell_type": "markdown",
      "metadata": {
        "id": "VZY6l8inSUHD"
      },
      "source": [
        "### Write a program which accepts a string as input to print \"Yes\" if the string is \"yes\" or \"YES\" or \"Yes\", otherwise print \"No\""
      ]
    },
    {
      "cell_type": "code",
      "execution_count": 18,
      "metadata": {
        "colab": {
          "base_uri": "https://localhost:8080/"
        },
        "id": "KlUIdKNQSUHE",
        "outputId": "f3e16692-03f3-43bb-bf87-9af2da22582c"
      },
      "outputs": [
        {
          "output_type": "stream",
          "name": "stdout",
          "text": [
            "Please type something. --> Yes or No yes\n",
            "Yes\n"
          ]
        }
      ],
      "source": [
        "text = input(\"Please type something. --> Yes or No \")\n",
        "if text.lower() == 'yes':\n",
        "    print('Yes')\n",
        "else:\n",
        "    print('No')\n"
      ]
    },
    {
      "cell_type": "markdown",
      "metadata": {
        "id": "W1krJGVYSUHE"
      },
      "source": [
        "### Please write a program to generate a list with 5 random numbers between 100 and 200 inclusive."
      ]
    },
    {
      "cell_type": "code",
      "execution_count": 19,
      "metadata": {
        "colab": {
          "base_uri": "https://localhost:8080/"
        },
        "id": "WaYrVafoSUHE",
        "outputId": "619eb437-11e8-4e2a-9c3b-678039f3f715"
      },
      "outputs": [
        {
          "output_type": "execute_result",
          "data": {
            "text/plain": [
              "[127, 156, 161, 188, 148]"
            ]
          },
          "metadata": {},
          "execution_count": 19
        }
      ],
      "source": [
        "import random\n",
        "l = random.sample(range(100,201),5)\n",
        "l"
      ]
    },
    {
      "cell_type": "markdown",
      "metadata": {
        "id": "Zesy7C28SUHF"
      },
      "source": [
        "### Please generate a random float where the value is between 5 and 95 using Python module."
      ]
    },
    {
      "cell_type": "code",
      "execution_count": null,
      "metadata": {
        "id": "PqAEMGzvSUHF",
        "outputId": "6bf835fb-39fb-4b8f-9ea8-72380bce95e9"
      },
      "outputs": [
        {
          "name": "stdout",
          "output_type": "stream",
          "text": [
            "50.407397170147895\n"
          ]
        }
      ],
      "source": [
        "import random\n",
        "l =random.uniform(5,95)\n",
        "l"
      ]
    },
    {
      "cell_type": "markdown",
      "metadata": {
        "id": "Uh1xhHGzSUHF"
      },
      "source": [
        "### [1,1,1,1,3,3,4,4,4,5,6,7,8,8,8]\n",
        "#### 1. from the above list print the uniques values\n",
        "#### 2. count how many times each number exist\n",
        "#### 3. Print the number which is occured more number of times"
      ]
    },
    {
      "cell_type": "code",
      "execution_count": 20,
      "metadata": {
        "colab": {
          "base_uri": "https://localhost:8080/"
        },
        "id": "9XLW9GY-SUHF",
        "outputId": "9576c9fa-0ab2-4383-c4b7-9a86bd39651a"
      },
      "outputs": [
        {
          "output_type": "stream",
          "name": "stdout",
          "text": [
            "{1, 3, 4, 5, 6, 7, 8}\n"
          ]
        }
      ],
      "source": [
        "x =[1,1,1,1,3,3,4,4,4,5,6,7,8,8,8]\n",
        "print(set(x))"
      ]
    },
    {
      "cell_type": "code",
      "execution_count": 23,
      "metadata": {
        "colab": {
          "base_uri": "https://localhost:8080/"
        },
        "id": "6hwg6-jWSUHG",
        "outputId": "3cd2a4b0-218e-4f28-abfb-8179984ddb09"
      },
      "outputs": [
        {
          "output_type": "stream",
          "name": "stdout",
          "text": [
            "1 4\n",
            "3 2\n",
            "4 3\n",
            "5 1\n",
            "6 1\n",
            "7 1\n",
            "8 3\n"
          ]
        }
      ],
      "source": [
        "x =[1,1,1,1,3,3,4,4,4,5,6,7,8,8,8]\n",
        "for i in set(x):\n",
        "    print(i,x.count(i))"
      ]
    },
    {
      "cell_type": "code",
      "execution_count": null,
      "metadata": {
        "id": "yidyZWlBSUHG"
      },
      "outputs": [],
      "source": []
    },
    {
      "cell_type": "markdown",
      "metadata": {
        "id": "PTpG0JH6SUHG"
      },
      "source": [
        "# [Innomatics Research Labs](https:/innomatics.in/)\n",
        "[www.innomatics.in](https:/innomatics.in/)"
      ]
    },
    {
      "cell_type": "code",
      "execution_count": null,
      "metadata": {
        "id": "SVEvQbmoSUHG"
      },
      "outputs": [],
      "source": []
    }
  ],
  "metadata": {
    "kernelspec": {
      "display_name": "Python 3",
      "language": "python",
      "name": "python3"
    },
    "language_info": {
      "codemirror_mode": {
        "name": "ipython",
        "version": 3
      },
      "file_extension": ".py",
      "mimetype": "text/x-python",
      "name": "python",
      "nbconvert_exporter": "python",
      "pygments_lexer": "ipython3",
      "version": "3.8.5"
    },
    "colab": {
      "provenance": [],
      "include_colab_link": true
    }
  },
  "nbformat": 4,
  "nbformat_minor": 0
}