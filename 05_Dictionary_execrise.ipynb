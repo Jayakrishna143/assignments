{
  "cells": [
    {
      "cell_type": "markdown",
      "metadata": {
        "id": "view-in-github",
        "colab_type": "text"
      },
      "source": [
        "<a href=\"https://colab.research.google.com/github/Jayakrishna143/assignments/blob/main/05_Dictionary_execrise.ipynb\" target=\"_parent\"><img src=\"https://colab.research.google.com/assets/colab-badge.svg\" alt=\"Open In Colab\"/></a>"
      ]
    },
    {
      "cell_type": "markdown",
      "metadata": {
        "id": "foOlS6BGqYEY"
      },
      "source": [
        "# Assignment Instructions\n",
        "\n",
        "`Hello Innominion,`\n",
        "\n",
        "- **Try to attempt all the questions in every possible way.**\n",
        "- **Some other topics are required to solve some questions. don't panic.**\n",
        "- **Those questions can be answered after the topics are taught.**\n",
        "\n",
        "\n",
        "- `Join Mentoring Session for the Support/Doubts Resolving with Our Technical Mentors (2.00 PM - 6.00 PM  Mon-Sat)`\n",
        "\n",
        "Happy Learning !!!"
      ]
    },
    {
      "cell_type": "markdown",
      "metadata": {
        "id": "oTyTeZ1FqYEb"
      },
      "source": [
        "###  Dictionary"
      ]
    },
    {
      "cell_type": "markdown",
      "metadata": {
        "id": "YYo5ebSuqYEc"
      },
      "source": [
        "**`Question :`Create Dictionary for following information as \"person1\":**\n",
        "   - Name = John\n",
        "   - Gender= Male\n",
        "   - Occupation = Data Scientist\n",
        "   - Location  = Nizampet, Hyderabad"
      ]
    },
    {
      "cell_type": "code",
      "execution_count": 3,
      "metadata": {
        "colab": {
          "base_uri": "https://localhost:8080/"
        },
        "id": "RVGO37WqqYEd",
        "outputId": "5fc83511-017b-421d-b336-52a35d0058a9"
      },
      "outputs": [
        {
          "output_type": "execute_result",
          "data": {
            "text/plain": [
              "{'Name': 'John',\n",
              " 'Gender': 'Male',\n",
              " 'Occupation': 'Data Scientist',\n",
              " 'Location': 'Nizampet, Hyderabad'}"
            ]
          },
          "metadata": {},
          "execution_count": 3
        }
      ],
      "source": [
        "# CODE HERE\n",
        "person1 = {'Name':'John','Gender':'Male','Occupation':'Data Scientist','Location':'Nizampet, Hyderabad'}\n",
        "person1"
      ]
    },
    {
      "cell_type": "code",
      "execution_count": null,
      "metadata": {
        "id": "4jm65MOFqYEf",
        "outputId": "a96532d5-b9d6-43ab-e970-bd5e9e3040a6"
      },
      "outputs": [
        {
          "data": {
            "text/plain": [
              "{'Gender': 'Male',\n",
              " 'Location': 'Nizampet, Hyderabad',\n",
              " 'Name': 'John',\n",
              " 'Occupation': 'Data Scientist'}"
            ]
          },
          "execution_count": 4,
          "metadata": {},
          "output_type": "execute_result"
        }
      ],
      "source": [
        "person1"
      ]
    },
    {
      "cell_type": "markdown",
      "metadata": {
        "id": "6wRbYRSRqYEh"
      },
      "source": [
        "> print keys in person1 as a list"
      ]
    },
    {
      "cell_type": "code",
      "execution_count": null,
      "metadata": {
        "id": "HcLGhBnoqYEi"
      },
      "outputs": [],
      "source": [
        "# CODE HERE"
      ]
    },
    {
      "cell_type": "code",
      "execution_count": 4,
      "metadata": {
        "colab": {
          "base_uri": "https://localhost:8080/"
        },
        "id": "vOWMt5c1qYEj",
        "outputId": "f4cfc1d9-b5c9-4d60-c1bb-0f6b5757e1a4"
      },
      "outputs": [
        {
          "output_type": "execute_result",
          "data": {
            "text/plain": [
              "['Name', 'Gender', 'Occupation', 'Location']"
            ]
          },
          "metadata": {},
          "execution_count": 4
        }
      ],
      "source": [
        "[k for k in  person1.keys()]"
      ]
    },
    {
      "cell_type": "markdown",
      "metadata": {
        "id": "QMASEh9bqYEj"
      },
      "source": [
        "> **`Question:` Remove Location in person1**"
      ]
    },
    {
      "cell_type": "code",
      "execution_count": 5,
      "metadata": {
        "colab": {
          "base_uri": "https://localhost:8080/"
        },
        "id": "yL7TBAWCqYEk",
        "outputId": "ab7e2d3c-557f-4388-91f4-3fd34d833d44"
      },
      "outputs": [
        {
          "output_type": "execute_result",
          "data": {
            "text/plain": [
              "{'Name': 'John', 'Gender': 'Male', 'Occupation': 'Data Scientist'}"
            ]
          },
          "metadata": {},
          "execution_count": 5
        }
      ],
      "source": [
        "# CODE HERE\n",
        "person1.pop('Location')\n",
        "person1"
      ]
    },
    {
      "cell_type": "code",
      "execution_count": null,
      "metadata": {
        "id": "2dY9a1bNqYEl",
        "outputId": "aaa3d063-742b-43dd-dafc-86b4575cbc96"
      },
      "outputs": [
        {
          "data": {
            "text/plain": [
              "{'Age': 27,\n",
              " 'Gender': 'Male',\n",
              " 'Name': 'Srikanth',\n",
              " 'Occupation': 'Data Scientist'}"
            ]
          },
          "execution_count": 6,
          "metadata": {},
          "output_type": "execute_result"
        }
      ],
      "source": []
    },
    {
      "cell_type": "markdown",
      "metadata": {
        "id": "GdItKIwQqYEl"
      },
      "source": [
        "> **`Question:` Create dictionary of person2 with**\n",
        "- Name  = Raghu Ram\n",
        "- Gender = Male\n",
        "- Age  = 25\n",
        "- Occupation = Data Scienctist"
      ]
    },
    {
      "cell_type": "code",
      "execution_count": 8,
      "metadata": {
        "colab": {
          "base_uri": "https://localhost:8080/"
        },
        "id": "HKMHdS5NqYEl",
        "outputId": "430c5cd4-a1d8-4337-9db5-234687ffc286"
      },
      "outputs": [
        {
          "output_type": "stream",
          "name": "stdout",
          "text": [
            "{'Name': 'Raghu Ram', 'Gender': 'Male', 'Age': 25, 'Occupation': 'Data Scientist'}\n"
          ]
        }
      ],
      "source": [
        "# CODE HERE\n",
        "person2 = {'Name':'Raghu Ram','Gender':'Male','Age':25,'Occupation':'Data Scientist'}\n",
        "print(person2)"
      ]
    },
    {
      "cell_type": "code",
      "execution_count": null,
      "metadata": {
        "id": "xy8tM43FqYEm"
      },
      "outputs": [],
      "source": []
    },
    {
      "cell_type": "code",
      "execution_count": null,
      "metadata": {
        "id": "7jtzXEjxqYEm",
        "outputId": "b7f1b7d5-254c-474c-dc03-1d30ccc37b74"
      },
      "outputs": [
        {
          "data": {
            "text/plain": [
              "{'Age': 25,\n",
              " 'Gender': 'Male',\n",
              " 'Name': 'Raghu Ram',\n",
              " 'Occupation': 'Data Scientist'}"
            ]
          },
          "execution_count": 5,
          "metadata": {},
          "output_type": "execute_result"
        }
      ],
      "source": [
        "person2"
      ]
    },
    {
      "cell_type": "markdown",
      "metadata": {
        "id": "QYMuwhuHqYEn"
      },
      "source": [
        "> **`Question:` Print the output as show below**"
      ]
    },
    {
      "cell_type": "code",
      "execution_count": 9,
      "metadata": {
        "colab": {
          "base_uri": "https://localhost:8080/"
        },
        "id": "BZ1Z6olMqYEn",
        "outputId": "ff69dba6-2e49-4fb0-cb98-3043ab8c4a6d"
      },
      "outputs": [
        {
          "output_type": "stream",
          "name": "stdout",
          "text": [
            "==================== person1 ====================\n",
            "\n",
            "{'Name': 'John', 'Gender': 'Male', 'Occupation': 'Data Scientist'}\n",
            "\n",
            "==================== person2 ====================\n",
            "\n",
            "{'Name': 'Raghu Ram', 'Gender': 'Male', 'Age': 25, 'Occupation': 'Data Scientist'}\n"
          ]
        }
      ],
      "source": [
        "# CODE HERE\n",
        "print('==================== person1 ====================\\n')\n",
        "print(person1)\n",
        "print('\\n==================== person2 ====================\\n')\n",
        "print(person2)"
      ]
    },
    {
      "cell_type": "markdown",
      "metadata": {
        "id": "V5nyIZXQqYEn"
      },
      "source": [
        "# create a dictionary\n",
        "#### `Question:` remove the elements from that dictionary using different methods\n",
        "{1: 1, 2: 4, 3: 9, 4: 16, 5: 25,6:36,7:49}"
      ]
    },
    {
      "cell_type": "code",
      "execution_count": 10,
      "metadata": {
        "colab": {
          "base_uri": "https://localhost:8080/"
        },
        "id": "DGVA4MAdqYEo",
        "outputId": "2c9e7e6c-87e3-45a0-d6e6-b0080ce93afb"
      },
      "outputs": [
        {
          "output_type": "execute_result",
          "data": {
            "text/plain": [
              "{1: 1, 2: 4, 4: 16, 5: 25, 6: 36, 7: 49}"
            ]
          },
          "metadata": {},
          "execution_count": 10
        }
      ],
      "source": [
        "# CODE HERE\n",
        "dic ={1: 1, 2: 4, 3: 9, 4: 16, 5: 25,6:36,7:49}\n",
        "dic.pop(3)\n",
        "dic"
      ]
    },
    {
      "cell_type": "code",
      "source": [
        "dic ={1: 1, 2: 4, 3: 9, 4: 16, 5: 25,6:36,7:49}\n",
        "dic.popitem()\n",
        "dic"
      ],
      "metadata": {
        "colab": {
          "base_uri": "https://localhost:8080/"
        },
        "id": "tJEnjkIouhYR",
        "outputId": "b791455d-2f7a-422a-b6d6-586553328c88"
      },
      "execution_count": 12,
      "outputs": [
        {
          "output_type": "execute_result",
          "data": {
            "text/plain": [
              "{1: 1, 2: 4, 3: 9, 4: 16, 5: 25, 6: 36}"
            ]
          },
          "metadata": {},
          "execution_count": 12
        }
      ]
    },
    {
      "cell_type": "code",
      "source": [
        "dic ={1: 1, 2: 4, 3: 9, 4: 16, 5: 25,6:36,7:49}\n",
        "del dic[6]\n",
        "dic"
      ],
      "metadata": {
        "colab": {
          "base_uri": "https://localhost:8080/"
        },
        "id": "LuSzU4eWut4X",
        "outputId": "8b2493e1-f73e-43c8-b92b-1b0b0fc8373c"
      },
      "execution_count": 13,
      "outputs": [
        {
          "output_type": "execute_result",
          "data": {
            "text/plain": [
              "{1: 1, 2: 4, 3: 9, 4: 16, 5: 25, 7: 49}"
            ]
          },
          "metadata": {},
          "execution_count": 13
        }
      ]
    },
    {
      "cell_type": "markdown",
      "metadata": {
        "id": "PRPUq96ZqYEo"
      },
      "source": [
        "\n",
        "### `Question:` print the values from the given dictionary in descending order\n",
        "{0: 0, 1: 1, 3: 9, 5: 25, 7: 49, 9: 81}"
      ]
    },
    {
      "cell_type": "code",
      "execution_count": 14,
      "metadata": {
        "colab": {
          "base_uri": "https://localhost:8080/"
        },
        "id": "H4bJ92cvqYEo",
        "outputId": "1aee1794-ee13-44fb-fcab-375aed38451c"
      },
      "outputs": [
        {
          "output_type": "execute_result",
          "data": {
            "text/plain": [
              "[81, 49, 25, 9, 1, 0]"
            ]
          },
          "metadata": {},
          "execution_count": 14
        }
      ],
      "source": [
        "# CODE HERE\n",
        "dic = {0: 0, 1: 1, 3: 9, 5: 25, 7: 49, 9: 81}\n",
        "sorted(dic.values(),reverse=True)"
      ]
    },
    {
      "cell_type": "code",
      "execution_count": null,
      "metadata": {
        "id": "0CSy8TJDqYEp"
      },
      "outputs": [],
      "source": []
    },
    {
      "cell_type": "markdown",
      "metadata": {
        "id": "BWvc4oWOqYEp"
      },
      "source": [
        "### `Question:` merge the below 3 dictionaries\n",
        "dict1 = { 'a': 1, 'b': 2 }\n",
        "dict2 = { 'b': 3, 'c': 4 }\n",
        "dict3 = { 'c': 5, 'd': 6 }"
      ]
    },
    {
      "cell_type": "code",
      "execution_count": 17,
      "metadata": {
        "colab": {
          "base_uri": "https://localhost:8080/"
        },
        "id": "r84KdzsrqYEp",
        "outputId": "ce8d9e09-088a-46a1-e2ae-cae6c20f50d1"
      },
      "outputs": [
        {
          "output_type": "stream",
          "name": "stdout",
          "text": [
            "{'a': 1, 'b': 3, 'c': 5, 'd': 6}\n"
          ]
        },
        {
          "output_type": "execute_result",
          "data": {
            "text/plain": [
              "{'a': 1, 'b': 3, 'c': 5, 'd': 6}"
            ]
          },
          "metadata": {},
          "execution_count": 17
        }
      ],
      "source": [
        "# CODE HERE\n",
        "\n",
        "dict1 = { 'a': 1, 'b': 2 }\n",
        "dict2 = { 'b': 3, 'c': 4 }\n",
        "dict3 = { 'c': 5, 'd': 6 }\n",
        "dict_merge = dict1|dict2|dict3\n",
        "print(dict_merge)\n",
        "{**dict1,**dict2,**dict3}\n"
      ]
    },
    {
      "cell_type": "code",
      "execution_count": null,
      "metadata": {
        "id": "cTAcjAYHqYEq",
        "outputId": "27b33d96-8da1-4b49-8e0d-cb32e870bf22"
      },
      "outputs": [
        {
          "name": "stdout",
          "output_type": "stream",
          "text": [
            "{'a': 1, 'b': 3, 'c': 5, 'd': 6}\n"
          ]
        }
      ],
      "source": []
    },
    {
      "cell_type": "markdown",
      "metadata": {
        "id": "i0O8HJqcqYEq"
      },
      "source": [
        "**`Question:` change Charan’s salary to 8500 in the following dictionary**"
      ]
    },
    {
      "cell_type": "raw",
      "metadata": {
        "id": "YRU9U_gVqYEr"
      },
      "source": [
        "sample_dict = {\n",
        "    'emp1': {'name': 'Jhony', 'salary': 7500},\n",
        "    'emp2': {'name': 'Ravi', 'salary': 8000},\n",
        "    'emp3': {'name': 'Charan', 'salary': 6500}\n",
        "}"
      ]
    },
    {
      "cell_type": "code",
      "execution_count": 18,
      "metadata": {
        "id": "gBj5xw5pqYEr"
      },
      "outputs": [],
      "source": [
        "# CODE HERE\n",
        "x={'emp1': {'name': 'Jhony', 'salary': 7500},'emp2': {'name': 'Ravi', 'salary': 8000},'emp3': {'name': 'Charan', 'salary': 6500}}"
      ]
    },
    {
      "cell_type": "code",
      "execution_count": 20,
      "metadata": {
        "colab": {
          "base_uri": "https://localhost:8080/"
        },
        "id": "6agYqcnqqYEr",
        "outputId": "2e3a8f69-ca81-48f6-980a-8d0887a3d1e5"
      },
      "outputs": [
        {
          "output_type": "execute_result",
          "data": {
            "text/plain": [
              "{'emp1': {'name': 'Jhony', 'salary': 7500},\n",
              " 'emp2': {'name': 'Ravi', 'salary': 8000},\n",
              " 'emp3': {'name': 'Charan', 'salary': 8500}}"
            ]
          },
          "metadata": {},
          "execution_count": 20
        }
      ],
      "source": [
        "x['emp3']['salary'] = 8500\n",
        "x"
      ]
    },
    {
      "cell_type": "markdown",
      "metadata": {
        "id": "fex8sAl_qYEs"
      },
      "source": [
        "**`Question:` Print the value of key ‘history’ from the below dict**"
      ]
    },
    {
      "cell_type": "markdown",
      "source": [],
      "metadata": {
        "id": "TRt_rvJTx9UI"
      }
    },
    {
      "cell_type": "raw",
      "metadata": {
        "id": "ZEx-4uKHqYEs"
      },
      "source": [
        "sampleDict = {\n",
        "    \"class\": {\n",
        "        \"student\": {\n",
        "            \"name\": \"Mike\",\n",
        "            \"marks\": {\n",
        "                \"physics\": 70,\n",
        "                \"history\": 80\n",
        "            }\n",
        "        }\n",
        "    }\n",
        "}"
      ]
    },
    {
      "cell_type": "code",
      "execution_count": 24,
      "metadata": {
        "colab": {
          "base_uri": "https://localhost:8080/"
        },
        "id": "PL8wuKhqqYEs",
        "outputId": "ace2d83a-1e1c-4c2a-e017-20736f076d9f"
      },
      "outputs": [
        {
          "output_type": "stream",
          "name": "stdout",
          "text": [
            "80\n"
          ]
        }
      ],
      "source": [
        "# CODE HERE\n",
        "x = { \"class\": { \"student\": { \"name\": \"Mike\", \"marks\": { \"physics\": 70, \"history\": 80 } } } }\n",
        "value = x[\"class\"][\"student\"][\"marks\"][\"history\"]\n",
        "print(value)"
      ]
    },
    {
      "cell_type": "code",
      "execution_count": null,
      "metadata": {
        "id": "EMyBhCBFqYEt",
        "outputId": "7815d22b-0b52-430d-8b91-41dd2b2207a3"
      },
      "outputs": [
        {
          "name": "stdout",
          "output_type": "stream",
          "text": [
            "80\n"
          ]
        }
      ],
      "source": []
    },
    {
      "cell_type": "markdown",
      "metadata": {
        "id": "K1b_1aNsqYEt"
      },
      "source": [
        "**`Question:` Rename a key Location to a Area in the following dictionary**"
      ]
    },
    {
      "cell_type": "raw",
      "metadata": {
        "id": "bdKYQOsTqYEt"
      },
      "source": [
        "{'Gender': 'Male',\n",
        " 'Location': 'Nizampet, Hyderabad',\n",
        " 'Name': 'John',\n",
        " 'Occupation': 'Data Scientist'}"
      ]
    },
    {
      "cell_type": "code",
      "execution_count": 25,
      "metadata": {
        "colab": {
          "base_uri": "https://localhost:8080/"
        },
        "id": "nGtKbTOeqYEt",
        "outputId": "86e62d30-4904-470d-8fdc-a939510fbb40"
      },
      "outputs": [
        {
          "output_type": "execute_result",
          "data": {
            "text/plain": [
              "{'Gender': 'Male',\n",
              " 'Name': 'John',\n",
              " 'Occupation': 'Data Scientist',\n",
              " 'Area': 'Nizampet, Hyderabad'}"
            ]
          },
          "metadata": {},
          "execution_count": 25
        }
      ],
      "source": [
        "# CODE HERE\n",
        "x = {'Gender': 'Male', 'Location': 'Nizampet, Hyderabad', 'Name': 'John', 'Occupation': 'Data Scientist'}\n",
        "x['Area'] = x.pop('Location')\n",
        "x"
      ]
    },
    {
      "cell_type": "code",
      "execution_count": null,
      "metadata": {
        "id": "23FOTqzjqYEu",
        "outputId": "93914bce-eca1-42e2-bcf8-300b42abd7f7"
      },
      "outputs": [
        {
          "data": {
            "text/plain": [
              "{'Gender': 'Male',\n",
              " 'Area': 'Nizampet, Hyderabad',\n",
              " 'Name': 'John',\n",
              " 'Occupation': 'Data Scientist'}"
            ]
          },
          "execution_count": 4,
          "metadata": {},
          "output_type": "execute_result"
        }
      ],
      "source": []
    },
    {
      "cell_type": "markdown",
      "metadata": {
        "id": "_cw2Q-wyqYEw"
      },
      "source": [
        "**`Question:` database = {'ram':1234,'raghu':5678,'kanav':1357}**\n",
        "## Tasks :-\n",
        "### 1. if the username and password matches print hello username\n",
        "### 2. if the username and password doesnot match, ask, you want me to add into the database\n",
        "### 3. show the updated database list\n"
      ]
    },
    {
      "cell_type": "code",
      "source": [
        "database = {'ram':1234,'raghu':5678,'kanav':1357}\n",
        "def user(name:str,password:int):\n",
        "    for i in database:\n",
        "        if name in database and database[name] == password:\n",
        "            print(f'Hello {name}')\n",
        "            break\n",
        "    else :\n",
        "        print('You want me to add into the database yes/no')\n",
        "        x = input()\n",
        "        if x.lower() == 'yes':\n",
        "            database[name] = password\n",
        "            print(database)\n",
        "        else:\n",
        "            print('Thank you')"
      ],
      "metadata": {
        "id": "FdArDo7Zzm9J"
      },
      "execution_count": 46,
      "outputs": []
    },
    {
      "cell_type": "code",
      "source": [
        "user('jaya',1234)"
      ],
      "metadata": {
        "colab": {
          "base_uri": "https://localhost:8080/"
        },
        "id": "KC9oThwY1BzE",
        "outputId": "e369f79b-04b8-46c8-c9e5-a99fa14bdb4a"
      },
      "execution_count": 47,
      "outputs": [
        {
          "output_type": "stream",
          "name": "stdout",
          "text": [
            "You want me to add into the database yes/no\n",
            "YES\n",
            "{'ram': 1234, 'raghu': 5678, 'kanav': 1357, 'jaya': 1234}\n"
          ]
        }
      ]
    },
    {
      "cell_type": "markdown",
      "metadata": {
        "id": "o1xqQoZoqYEw"
      },
      "source": [
        "# [Innomatics Research Labs](https:/innomatics.in/)\n",
        "[www.innomatics.in](https:/innomatics.in/)"
      ]
    },
    {
      "cell_type": "code",
      "execution_count": null,
      "metadata": {
        "id": "dO9RoPBOqYEx"
      },
      "outputs": [],
      "source": []
    }
  ],
  "metadata": {
    "kernelspec": {
      "display_name": "Python 3",
      "language": "python",
      "name": "python3"
    },
    "language_info": {
      "codemirror_mode": {
        "name": "ipython",
        "version": 3
      },
      "file_extension": ".py",
      "mimetype": "text/x-python",
      "name": "python",
      "nbconvert_exporter": "python",
      "pygments_lexer": "ipython3",
      "version": "3.8.5"
    },
    "colab": {
      "provenance": [],
      "include_colab_link": true
    }
  },
  "nbformat": 4,
  "nbformat_minor": 0
}