{
  "cells": [
    {
      "cell_type": "markdown",
      "metadata": {
        "id": "view-in-github",
        "colab_type": "text"
      },
      "source": [
        "<a href=\"https://colab.research.google.com/github/Jayakrishna143/assignments/blob/main/07_Functions_and_Methods_execrise.ipynb\" target=\"_parent\"><img src=\"https://colab.research.google.com/assets/colab-badge.svg\" alt=\"Open In Colab\"/></a>"
      ]
    },
    {
      "cell_type": "markdown",
      "metadata": {
        "id": "ulWPjwCr5CTn"
      },
      "source": [
        "# Functions and Methods Homework\n",
        "\n",
        "Complete the following questions:\n",
        "____\n",
        "**Write a function that computes the volume of a sphere given its radius.**"
      ]
    },
    {
      "cell_type": "markdown",
      "metadata": {
        "id": "h7FOxpgS5CTr"
      },
      "source": [
        "volume = 4/3 pi $r ^3$"
      ]
    },
    {
      "cell_type": "code",
      "execution_count": null,
      "metadata": {
        "id": "zWF2MYhR5CTt"
      },
      "outputs": [],
      "source": [
        "def vol(rad):\n",
        "    # code here\n",
        "    volume = 4/3 * 22/7* rad**3\n",
        "    return volume"
      ]
    },
    {
      "cell_type": "code",
      "execution_count": null,
      "metadata": {
        "colab": {
          "base_uri": "https://localhost:8080/"
        },
        "id": "cAWAwSuoo-n6",
        "outputId": "9224de1d-731c-4d2c-8f64-db96a36344a3"
      },
      "outputs": [
        {
          "data": {
            "text/plain": [
              "523.8095238095239"
            ]
          },
          "execution_count": 9,
          "metadata": {},
          "output_type": "execute_result"
        }
      ],
      "source": [
        "vol(5)"
      ]
    },
    {
      "cell_type": "markdown",
      "metadata": {
        "id": "HMo_Rw5a5CTy"
      },
      "source": [
        "___\n",
        "**Write a function that checks whether a number is in a given range (Inclusive of high and low)**"
      ]
    },
    {
      "cell_type": "code",
      "execution_count": 22,
      "metadata": {
        "id": "n0yqPe8E5CT0"
      },
      "outputs": [],
      "source": [
        "def ran_check(num,low,high):\n",
        "    # code here\n",
        "    if low <= num <= high:\n",
        "        return f'{num} is in range'\n",
        "    else:\n",
        "        return f'{num} is not in range'\n"
      ]
    },
    {
      "cell_type": "code",
      "execution_count": 23,
      "metadata": {
        "colab": {
          "base_uri": "https://localhost:8080/",
          "height": 35
        },
        "id": "WArv3lNpqeQG",
        "outputId": "5a4bebb6-f78a-419e-febc-fc9bc8de7b42"
      },
      "outputs": [
        {
          "output_type": "execute_result",
          "data": {
            "text/plain": [
              "'3 is in range'"
            ],
            "application/vnd.google.colaboratory.intrinsic+json": {
              "type": "string"
            }
          },
          "metadata": {},
          "execution_count": 23
        }
      ],
      "source": [
        "ran_check(3,1,10)"
      ]
    },
    {
      "cell_type": "markdown",
      "metadata": {
        "id": "iwjtPA8c5CT7"
      },
      "source": [
        "If you only wanted to return a boolean:"
      ]
    },
    {
      "cell_type": "code",
      "execution_count": 26,
      "metadata": {
        "id": "MpXji4ez5CT9"
      },
      "outputs": [],
      "source": [
        "def ran_bool(num,low,high):\n",
        "    return low <= num <= high"
      ]
    },
    {
      "cell_type": "code",
      "execution_count": 27,
      "metadata": {
        "id": "0V5Z-P4x5CUB",
        "outputId": "b1efaf36-7912-4715-d2e1-c69c9c3b9288",
        "colab": {
          "base_uri": "https://localhost:8080/"
        }
      },
      "outputs": [
        {
          "output_type": "execute_result",
          "data": {
            "text/plain": [
              "False"
            ]
          },
          "metadata": {},
          "execution_count": 27
        }
      ],
      "source": [
        "ran_bool(3,11,10)"
      ]
    },
    {
      "cell_type": "markdown",
      "metadata": {
        "id": "vqDY4M-45CUJ"
      },
      "source": [
        "____\n",
        "**Write a Python function that accepts a string and calculate the number of upper case letters and lower case letters.**\n",
        "\n",
        "    Sample String : 'Hello Mr. Rogers, how are you this fine Tuesday?'\n",
        "    Expected Output :\n",
        "    No. of Upper case characters : 4\n",
        "    No. of Lower case Characters : 33\n",
        "\n",
        "If you feel ambitious, explore the Collections module to solve this problem!"
      ]
    },
    {
      "cell_type": "code",
      "execution_count": 36,
      "metadata": {
        "id": "zK0dlL0J5CUK"
      },
      "outputs": [],
      "source": [
        "def up_low(s):\n",
        "    u_count = 0\n",
        "    l_count = 0\n",
        "    for i in s:\n",
        "        if i.islower():\n",
        "            l_count+=1\n",
        "        elif i.isupper():\n",
        "            u_count+=1\n",
        "        else:\n",
        "            continue\n",
        "    print(s)\n",
        "    print(f\"No. of Upper case characters : {u_count}\")\n",
        "    print(f\"No. of Lower case Characters : {l_count}\")\n",
        "\n"
      ]
    },
    {
      "cell_type": "code",
      "source": [
        "up_low('Hello Mr. Rogers, how are you this fine Tuesday?')"
      ],
      "metadata": {
        "colab": {
          "base_uri": "https://localhost:8080/"
        },
        "id": "E8YF1N8PvwZf",
        "outputId": "d9e28057-91e9-421a-b2a4-f3eba9e08735"
      },
      "execution_count": 37,
      "outputs": [
        {
          "output_type": "stream",
          "name": "stdout",
          "text": [
            "Hello Mr. Rogers, how are you this fine Tuesday?\n",
            "No. of Upper case characters : 4\n",
            "No. of Lower case Characters : 33\n"
          ]
        }
      ]
    },
    {
      "cell_type": "markdown",
      "metadata": {
        "id": "KM0XQc4W5CUP"
      },
      "source": [
        "____\n",
        "**Write a Python function that takes a list and returns a new list with unique elements of the first list.**\n",
        "\n",
        "    Sample List : [1,1,1,1,2,2,3,3,3,3,4,5]\n",
        "    Unique List : [1, 2, 3, 4, 5]"
      ]
    },
    {
      "cell_type": "code",
      "execution_count": 38,
      "metadata": {
        "id": "CUat5ZSr5CUR"
      },
      "outputs": [],
      "source": [
        "def unique_list(l):\n",
        "    s = set(l)\n",
        "    return list(s)"
      ]
    },
    {
      "cell_type": "code",
      "execution_count": 39,
      "metadata": {
        "id": "tutsZ1Tb5CUV",
        "outputId": "04c12d23-06cb-4b8d-f526-2c73e19fbce7",
        "colab": {
          "base_uri": "https://localhost:8080/"
        }
      },
      "outputs": [
        {
          "output_type": "execute_result",
          "data": {
            "text/plain": [
              "[1, 2, 3, 4, 5]"
            ]
          },
          "metadata": {},
          "execution_count": 39
        }
      ],
      "source": [
        "unique_list([1,1,1,1,2,2,3,3,3,3,4,5])"
      ]
    },
    {
      "cell_type": "markdown",
      "metadata": {
        "id": "ITK_schK5CUb"
      },
      "source": [
        "____\n",
        "**Write a Python function to multiply all the numbers in a list.**\n",
        "\n",
        "    Sample List : [1, 2, 3, -4]\n",
        "    Expected Output : -24"
      ]
    },
    {
      "cell_type": "code",
      "execution_count": 42,
      "metadata": {
        "id": "8f0Y4zBT5CUd"
      },
      "outputs": [],
      "source": [
        "def multiply(numbers):\n",
        "    num = 1\n",
        "    for i in numbers:\n",
        "        num *=i\n",
        "    return num"
      ]
    },
    {
      "cell_type": "code",
      "execution_count": 43,
      "metadata": {
        "id": "nk_bByrm5CUi",
        "outputId": "05c0ce0d-1823-470a-b1e0-0452ec54924a",
        "colab": {
          "base_uri": "https://localhost:8080/"
        }
      },
      "outputs": [
        {
          "output_type": "execute_result",
          "data": {
            "text/plain": [
              "-24"
            ]
          },
          "metadata": {},
          "execution_count": 43
        }
      ],
      "source": [
        "multiply([1,2,3,-4])"
      ]
    },
    {
      "cell_type": "markdown",
      "metadata": {
        "id": "5lrg6QgD5CUm"
      },
      "source": [
        "____\n",
        "**Write a Python function that checks whether a passed string is palindrome or not.**\n",
        "\n",
        "Note: A palindrome is word, phrase, or sequence that reads the same backward as forward, e.g., madam or nurses run."
      ]
    },
    {
      "cell_type": "code",
      "execution_count": 52,
      "metadata": {
        "id": "aQDoX-6Y5CUn"
      },
      "outputs": [],
      "source": [
        "def palindrome(s):\n",
        "    l = int((len(s)/2)+1)\n",
        "    for i in range(l):\n",
        "        if s[i] != s[-i -1]:\n",
        "            return False\n",
        "    return True"
      ]
    },
    {
      "cell_type": "code",
      "execution_count": 54,
      "metadata": {
        "id": "Jc6_b7hQ5CUy",
        "outputId": "3456c2e0-af16-4b75-98d8-58390a510b37",
        "colab": {
          "base_uri": "https://localhost:8080/"
        }
      },
      "outputs": [
        {
          "output_type": "execute_result",
          "data": {
            "text/plain": [
              "True"
            ]
          },
          "metadata": {},
          "execution_count": 54
        }
      ],
      "source": [
        "palindrome('helleh')"
      ]
    },
    {
      "cell_type": "markdown",
      "metadata": {
        "id": "kh-dgAVdodRC"
      },
      "source": [
        "## Given a number N.Find Sum of 1 to N Using Recursion"
      ]
    },
    {
      "cell_type": "code",
      "execution_count": 2,
      "metadata": {
        "id": "FW5z_nFUodRC",
        "outputId": "8f071c39-fc5d-42f3-ad4f-6e2cbc4ba15f",
        "colab": {
          "base_uri": "https://localhost:8080/"
        }
      },
      "outputs": [
        {
          "output_type": "stream",
          "name": "stdout",
          "text": [
            "5\n",
            "15\n"
          ]
        }
      ],
      "source": [
        "# CODE HERE\n",
        "def summation(n):\n",
        "    if n == 0:\n",
        "        return 0\n",
        "    return n + summation(n-1)\n",
        "\n",
        "n = int(input())\n",
        "sum = summation(n)\n",
        "print(sum)"
      ]
    },
    {
      "cell_type": "code",
      "source": [
        "\n"
      ],
      "metadata": {
        "id": "Y9HTZcaV3jBl"
      },
      "execution_count": 1,
      "outputs": []
    },
    {
      "cell_type": "markdown",
      "metadata": {
        "id": "abDnZlxUodRD"
      },
      "source": [
        "### Define a function which can generate and print a list where the values are square of numbers between 1 and 20"
      ]
    },
    {
      "cell_type": "code",
      "execution_count": 4,
      "metadata": {
        "id": "dhAFSiQSodRD",
        "outputId": "d65d5a16-d369-47e9-b5e6-471ea0320091",
        "colab": {
          "base_uri": "https://localhost:8080/"
        }
      },
      "outputs": [
        {
          "output_type": "stream",
          "name": "stdout",
          "text": [
            "[1, 4, 9, 16, 25, 36, 49, 64, 81, 100, 121, 144, 169, 196, 225, 256, 289, 324, 361, 400]\n"
          ]
        }
      ],
      "source": [
        "def printList():\n",
        "    l =[i**2 for i in range(1,21) ]\n",
        "    print(l)\n",
        "#Code here\n",
        "printList()"
      ]
    },
    {
      "cell_type": "markdown",
      "metadata": {
        "id": "cBlt68-IodRE"
      },
      "source": [
        "### Define a function which can generate a dictionary where the keys are numbers between 1 and 20 (both included) and the values are square of keys. The function should just print the keys only.\n",
        "\n"
      ]
    },
    {
      "cell_type": "code",
      "execution_count": 5,
      "metadata": {
        "id": "8RCRgbSTodRE",
        "outputId": "05612375-9ba2-489d-b02f-9bbf67369b9c",
        "colab": {
          "base_uri": "https://localhost:8080/"
        }
      },
      "outputs": [
        {
          "output_type": "stream",
          "name": "stdout",
          "text": [
            "{1: 1, 2: 4, 3: 9, 4: 16, 5: 25, 6: 36, 7: 49, 8: 64, 9: 81, 10: 100, 11: 121, 12: 144, 13: 169, 14: 196, 15: 225, 16: 256, 17: 289, 18: 324, 19: 361, 20: 400}\n"
          ]
        }
      ],
      "source": [
        "def printDict():\n",
        "    d= {k:k**2 for k in range(1,21)}\n",
        "    print(d)\n",
        "printDict()"
      ]
    },
    {
      "cell_type": "markdown",
      "metadata": {
        "id": "5z-nTzuModRF"
      },
      "source": [
        "### Write a function that count the no of characters of the given input text\n",
        "- input\n",
        "    - innomatics research labs\n",
        "    \n",
        "- output\n",
        "    - innomatics :10\n",
        "    - research : 8\n",
        "    - labs : 4"
      ]
    },
    {
      "cell_type": "code",
      "source": [
        "def foo(s):\n",
        "    l = s.split()\n",
        "    d={k:len(k) for k in l }\n",
        "    print(d)\n",
        "foo('innomatics research labs')"
      ],
      "metadata": {
        "colab": {
          "base_uri": "https://localhost:8080/"
        },
        "id": "gYbZkz94FgIR",
        "outputId": "780f553e-9007-47c1-8d45-0977ae9463b9"
      },
      "execution_count": 10,
      "outputs": [
        {
          "output_type": "stream",
          "name": "stdout",
          "text": [
            "{'innomatics': 10, 'research': 8, 'labs': 4}\n"
          ]
        }
      ]
    },
    {
      "cell_type": "markdown",
      "metadata": {
        "id": "ex5DpLAKodRF"
      },
      "source": [
        "### Write a program which can map() to make a list whose elements are square of elements in [1,2,3,4,5,6,7,8,9,10].\n",
        "\n",
        "Using map() function"
      ]
    },
    {
      "cell_type": "code",
      "execution_count": 11,
      "metadata": {
        "id": "T7QRbTFHodRF",
        "outputId": "9049cb1b-53d6-496f-bcfd-c39874b6c34a",
        "colab": {
          "base_uri": "https://localhost:8080/"
        }
      },
      "outputs": [
        {
          "output_type": "stream",
          "name": "stdout",
          "text": [
            "[1, 4, 9, 16, 25, 36, 49, 64, 81, 100]\n"
          ]
        }
      ],
      "source": [
        "# CODE HERE\n",
        "# No different way of code is written as the requirment is specificly mentioned in problem description\n",
        "\n",
        "li = [1, 2, 3, 4, 5, 6, 7, 8, 9, 10]\n",
        "\n",
        "#Code here\n",
        "def square(n):\n",
        "    return n**2\n",
        "squaredNumbers = map(square,li)\n",
        "print(list(squaredNumbers))  # converting the object into list"
      ]
    },
    {
      "cell_type": "markdown",
      "metadata": {
        "id": "Rcu7grscodRG"
      },
      "source": [
        "### Write a program which can map() and filter() to make a list whose elements are square of even number in [1,2,3,4,5,6,7,8,9,10].\n",
        "##### using filter()"
      ]
    },
    {
      "cell_type": "code",
      "execution_count": 12,
      "metadata": {
        "id": "89nV6GpCodRG",
        "outputId": "0290cfc3-d879-4eeb-ce7e-a78a316bf092",
        "colab": {
          "base_uri": "https://localhost:8080/"
        }
      },
      "outputs": [
        {
          "output_type": "stream",
          "name": "stdout",
          "text": [
            "[4, 16, 36, 64, 100]\n"
          ]
        }
      ],
      "source": [
        "\n",
        "def even(x):\n",
        "    if x%2==0:\n",
        "        return True\n",
        "    else:\n",
        "        return False\n",
        "\n",
        "\n",
        "def squer(x):\n",
        "    return x**2\n",
        "\n",
        "li = [1, 2, 3, 4, 5, 6, 7, 8, 9, 10]\n",
        "\n",
        "f = filter(even,li)\n",
        "li = map(squer,f)\n",
        "# first filters number by even number and the apply map() on the resultant elements\n",
        "print(list(li))"
      ]
    },
    {
      "cell_type": "markdown",
      "metadata": {
        "id": "9YUC-MTwodRH"
      },
      "source": [
        "### Write a program which can filter() to make a list whose elements are even number between 1 and 20 (both included)"
      ]
    },
    {
      "cell_type": "code",
      "execution_count": 13,
      "metadata": {
        "id": "haXmppYeodRH",
        "outputId": "2dd630fe-376d-46dc-b9a6-c25f16d42509",
        "colab": {
          "base_uri": "https://localhost:8080/"
        }
      },
      "outputs": [
        {
          "output_type": "stream",
          "name": "stdout",
          "text": [
            "[2, 4, 6, 8, 10, 12, 14, 16, 18, 20]\n"
          ]
        }
      ],
      "source": [
        "# CODE HERE\n",
        "def even(x):\n",
        "    if x%2==0:\n",
        "        return True\n",
        "    else:\n",
        "        return False\n",
        "evenNumbers = filter(even, range(1, 21))\n",
        "print(list(evenNumbers))"
      ]
    },
    {
      "cell_type": "markdown",
      "metadata": {
        "id": "iYMdX4KbodRI"
      },
      "source": [
        "### f(n)=f(n-1)+f(n-2) if n>1"
      ]
    },
    {
      "cell_type": "code",
      "execution_count": null,
      "metadata": {
        "id": "l1OGmBGpodRI",
        "outputId": "40fa4ba6-f792-446c-d189-6140e5c2f276"
      },
      "outputs": [
        {
          "name": "stdout",
          "output_type": "stream",
          "text": [
            "Enter n value7\n",
            "13\n"
          ]
        }
      ],
      "source": []
    },
    {
      "cell_type": "code",
      "execution_count": 16,
      "metadata": {
        "id": "Y07Uuy4-odRJ",
        "colab": {
          "base_uri": "https://localhost:8080/"
        },
        "outputId": "66a34ac5-8bc5-4bbd-bc59-6bcd60fa11cd"
      },
      "outputs": [
        {
          "output_type": "stream",
          "name": "stdout",
          "text": [
            "Enter n value7\n",
            "13\n"
          ]
        }
      ],
      "source": [
        "def f(n):\n",
        "    if n <= 1:\n",
        "        return n\n",
        "    else:\n",
        "        return f(n-1) + f(n-2)\n",
        "n = int(input(\"Enter n value\"))\n",
        "print(f(n))"
      ]
    },
    {
      "cell_type": "markdown",
      "metadata": {
        "id": "GKCWkFCm5CU_"
      },
      "source": [
        "# [Innomatics Research Labs](https:/innomatics.in/)\n",
        "[www.innomatics.in](https:/innomatics.in/)"
      ]
    },
    {
      "cell_type": "code",
      "execution_count": null,
      "metadata": {
        "id": "XjilAH0CodRJ"
      },
      "outputs": [],
      "source": []
    }
  ],
  "metadata": {
    "colab": {
      "provenance": [],
      "include_colab_link": true
    },
    "kernelspec": {
      "display_name": "Python 3",
      "language": "python",
      "name": "python3"
    },
    "language_info": {
      "codemirror_mode": {
        "name": "ipython",
        "version": 3
      },
      "file_extension": ".py",
      "mimetype": "text/x-python",
      "name": "python",
      "nbconvert_exporter": "python",
      "pygments_lexer": "ipython3",
      "version": "3.8.8"
    }
  },
  "nbformat": 4,
  "nbformat_minor": 0
}